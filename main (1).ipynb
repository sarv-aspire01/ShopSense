{
 "cells": [
  {
   "attachments": {},
   "cell_type": "markdown",
   "metadata": {},
   "source": [
    "# ShopSense\n",
    "#by sarvesh Pandey\n",
    "\n",
    "To get started, [get an API key](https://g.co/ai/idxGetGeminiKey) and replace the word `TODO` below with your API key:"
   ]
  },
  {
   "cell_type": "code",
   "execution_count": 10,
   "metadata": {},
   "outputs": [
    {
     "name": "stdout",
     "output_type": "stream",
     "text": [
      "{'error': '        To get started, get an GOOGLE_API_KEY and enter it in the first step    '}\n"
     ]
    }
   ],
   "source": [
    "import os\n",
    "os.environ['GOOGLE_API_KEY'] = 'Your_Api_Key_Here';\n",
    "\n",
    "if os.environ[\"GOOGLE_API_KEY\"] == 'YourApi_Key_Here':\n",
    "    print({ \"error\": '''\n",
    "        To get started, get an GOOGLE_API_KEY and enter it in the first step\n",
    "    '''.replace('\\n', '') })"
   ]
  },
  {
   "attachments": {},
   "cell_type": "markdown",
   "metadata": {},
   "source": [
    "Once you're done, create a text prompt here:"
   ]
  },
  {
   "cell_type": "code",
   "execution_count": 25,
   "metadata": {},
   "outputs": [],
   "source": [
    "prompt = 'Provide Details Of Britania Good Day Biscuits'\n"
   ]
  },
  {
   "cell_type": "markdown",
   "metadata": {},
   "source": [
    "And load an image with PIL:"
   ]
  },
  {
   "cell_type": "code",
   "execution_count": 6,
   "metadata": {
    "slideshow": {
     "slide_type": "skip"
    }
   },
   "outputs": [],
   "source": [
    "import PIL.Image\n",
    "#img = PIL.Image.open('baked_goods_1.jpg')\n",
    "# img = PIL.Image.open('baked_goods_2.jpg')\n",
    "# img = PIL.Image.open('baked_goods_3.jpg')\n"
   ]
  },
  {
   "attachments": {},
   "cell_type": "markdown",
   "metadata": {},
   "source": [
    "And finally, call the Gemini API using LangChain. [See the docs](https://github.com/langchain-ai/langchain/blob/master/libs/partners/google-genai/langchain_google_genai/__init__.py)"
   ]
  },
  {
   "cell_type": "code",
   "execution_count": 26,
   "metadata": {},
   "outputs": [
    {
     "data": {
      "text/markdown": [
       "## Britania Good Day Biscuits: A Detailed Analysis\n",
       "\n",
       "**Product Name:** Britania Good Day Biscuits\n",
       "\n",
       "**Brand Website:** https://www.britannia.in/products/biscuits/good-day\n",
       "\n",
       "**Nutritional Analysis (per 100g):**\n",
       "\n",
       "* Energy: 495 kcal\n",
       "* Protein: 7.4 g\n",
       "* Fat: 22.5 g\n",
       "* Carbohydrates: 65.7 g\n",
       "* Sugar: 22.5 g\n",
       "* Dietary Fiber: 2.5 g\n",
       "\n",
       "**Ingredients:**\n",
       "\n",
       "* **Wheat Flour:** The primary ingredient, providing carbohydrates for energy.\n",
       "* **Sugar:** Adds sweetness and flavor, but can contribute to added sugar intake.\n",
       "* **Vegetable Oil:** Provides fats for energy and texture.\n",
       "* **Palm Oil:** A common vegetable oil, often criticized for environmental concerns.\n",
       "* **Milk Solids:** Adds creaminess and flavor.\n",
       "* **Sodium Bicarbonate:**  A leavening agent for a light and airy texture.\n",
       "* **Salt:** Enhances flavor and acts as a preservative.\n",
       "* **Emulsifier:** Helps to blend ingredients and prevent separation.\n",
       "* **Flavoring Agents:** Used to enhance the taste of the biscuit.\n",
       "* **Other Ingredients:** May include spices, malt extract, and other additives.\n",
       "\n",
       "**Extra Ingredients:**\n",
       "\n",
       "* **Emulsifier (e.g., Soy Lecithin):** Promotes better mixing of ingredients and prevents separation.\n",
       "* **Preservatives (e.g., Sodium Metabisulfite):** Prevent spoilage and extend shelf life.\n",
       "* **Flavoring Agents (e.g., Vanillin):** Enhance the taste of the biscuit.\n",
       "\n",
       "**Effects of Extra Ingredients on the Body:**\n",
       "\n",
       "* **Soy Lecithin:** Generally safe in small amounts, but can cause allergic reactions in some individuals.\n",
       "* **Sodium Metabisulfite:** Can cause allergic reactions in some people, including asthma attacks.\n",
       "* **Vanillin:** Generally safe in small amounts, but may cause headaches or nausea in some individuals.\n",
       "\n",
       "**Health Considerations:**\n",
       "\n",
       "* **High in Sugar:** Good Day biscuits are high in sugar, contributing to added sugar intake and potential health risks like weight gain, type 2 diabetes, and heart disease.\n",
       "* **Processed Food:**  As a processed food, Good Day biscuits are lower in nutrients compared to whole grains.\n",
       "* **Palm Oil:**  Concerns exist about the environmental impact of palm oil production, including deforestation and habitat loss.\n",
       "\n",
       "**Dietary Intake:**\n",
       "\n",
       "* **Recommended Daily Intake of Sugar:** The World Health Organization recommends limiting added sugar intake to less than 10% of total daily calories.\n",
       "* **Recommended Daily Intake of Fiber:**  Adults need 25-38 grams of fiber per day. Good Day biscuits are low in fiber.\n",
       "\n",
       "**Health Outcomes:**\n",
       "\n",
       "* **Weight Gain:** High sugar content can contribute to weight gain.\n",
       "* **Type 2 Diabetes:** Excessive sugar consumption can increase the risk of type 2 diabetes.\n",
       "* **Heart Disease:**  High sugar and saturated fat intake can increase the risk of heart disease.\n",
       "* **Dental Problems:**  Sugar can contribute to tooth decay.\n",
       "\n",
       "**Processing:**\n",
       "\n",
       "* **Wheat Flour:** Processed from wheat grains, often bleached for a whiter color.\n",
       "* **Sugar:** Refined from sugarcane or beetroots.\n",
       "* **Vegetable Oils:** Extracted from plants and often refined.\n",
       "* **Other Ingredients:**  Processed and refined to create specific flavors and textures.\n",
       "\n",
       "**Naturally Available Alternatives:**\n",
       "\n",
       "* **Whole Wheat Crackers:**  Made with whole wheat flour, providing more fiber and nutrients.\n",
       "* **Homemade Biscuits:**  Made with whole wheat flour, honey, and nuts for a healthier and more flavorful option.\n",
       "\n",
       "**Sources:**\n",
       "\n",
       "* **Britannia Website:** https://www.britannia.in/products/biscuits/good-day\n",
       "* **World Health Organization:** https://www.who.int/news-room/fact-sheets/detail/sugar-reduction\n",
       "* **National Institutes of Health:** https://ods.od.nih.gov/factsheets/Fiber-HealthProfessional/\n",
       "* **Environmental Working Group:** https://www.ewg.org/food/palm-oil/\n",
       "\n",
       "**Disclaimer:** \n",
       "This information is for general knowledge and should not be considered medical advice. Please consult a healthcare professional for personalized guidance. \n"
      ],
      "text/plain": [
       "<IPython.core.display.Markdown object>"
      ]
     },
     "metadata": {},
     "output_type": "display_data"
    }
   ],
   "source": [
    "\n",
    "     from langchain_core.messages import HumanMessage, SystemMessage\n",
    "     from langchain_google_genai import ChatGoogleGenerativeAI\n",
    "     from IPython.display import Markdown, clear_output, display\n",
    "        #Current Ai Tunning \n",
    "     system_instruction = \"\"\"       \n",
    "     do a webscraping to get following \n",
    "    Provide Analysis\n",
    "    provide all information from genuine sources only, such as the product's own website, research papers, or government websites, brand website.\n",
    "    \n",
    "     Include ingredients, even hidden ones, if available (with pros and cons and effects on the human body).\n",
    "     provide exact name, effects,and source of exatra ingredients other then base (like emulsifier, preservative, and other chemicals and compositions & its bioavailability in nature) effect on body s…or RDA values), also must provide \"nutritional analysis\",  \"dietary intake\", \"health outcomes.\n",
    "     Mention health considerations like impact of the product on human body.\n",
    "     how this food is processed and what extra ingredients are used and there side effect on body(only if a genuine source is available).\n",
    "     provide naturally avallable alternative of the product with same ccost and better health impact and nutritions.\n",
    "     Provide the exact source of the above information (links preferred).\n",
    "\n",
    "     \"\"\"\n",
    "     model = ChatGoogleGenerativeAI(model=\"gemini-1.5-flash\")  # or gemini-1.5-pro\n",
    "     def chat(prompt):\n",
    "         messages = [\n",
    "             SystemMessage(content=system_instruction),\n",
    "             HumanMessage(content=prompt)\n",
    "         ]\n",
    "         buffer = []\n",
    "         for chunk in model.stream(messages, stop=None):\n",
    "             buffer.append(chunk.content)\n",
    "         clear_output()\n",
    "         display(Markdown(''.join(buffer)))\n",
    "     # Promp here:\n",
    "     chat(prompt)\n",
    "     "
   ]
  }
 ],
 "metadata": {
  "kernelspec": {
   "display_name": "out",
   "language": "python",
   "name": "python3"
  },
  "language_info": {
   "codemirror_mode": {
    "name": "ipython",
    "version": 3
   },
   "file_extension": ".py",
   "mimetype": "text/x-python",
   "name": "python",
   "nbconvert_exporter": "python",
   "pygments_lexer": "ipython3",
   "version": "3.11.8"
  },
  "orig_nbformat": 4
 },
 "nbformat": 4,
 "nbformat_minor": 2
}
